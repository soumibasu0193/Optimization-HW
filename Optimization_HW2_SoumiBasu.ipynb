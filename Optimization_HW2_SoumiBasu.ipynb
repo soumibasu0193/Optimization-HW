{
  "nbformat": 4,
  "nbformat_minor": 0,
  "metadata": {
    "colab": {
      "name": "Optimization HW2 SoumiBasu.ipynb",
      "provenance": [],
      "collapsed_sections": []
    },
    "kernelspec": {
      "name": "python3",
      "display_name": "Python 3"
    },
    "language_info": {
      "name": "python"
    }
  },
  "cells": [
    {
      "cell_type": "markdown",
      "metadata": {
        "id": "HmoA_d5zYBQg"
      },
      "source": [
        "#HW 2\n",
        "\n",
        "Submitted by:\n",
        "\n",
        "**Soumi Basu** (EID: sb59982)"
      ]
    },
    {
      "cell_type": "code",
      "metadata": {
        "colab": {
          "base_uri": "https://localhost:8080/"
        },
        "id": "v8NrWoejYV7I",
        "outputId": "cd9cb98e-81ae-4615-e22c-3fc0c0944ddb"
      },
      "source": [
        "!pip install gurobipy\n",
        "import numpy as np\n",
        "import gurobipy as gp\n",
        "import pandas as pd"
      ],
      "execution_count": null,
      "outputs": [
        {
          "output_type": "stream",
          "name": "stdout",
          "text": [
            "Requirement already satisfied: gurobipy in /usr/local/lib/python3.7/dist-packages (9.1.2)\n"
          ]
        }
      ]
    },
    {
      "cell_type": "markdown",
      "metadata": {
        "id": "PXganNBiYoiI"
      },
      "source": [
        "**Question 2**"
      ]
    },
    {
      "cell_type": "code",
      "metadata": {
        "id": "XSy3GlJ4YkO1"
      },
      "source": [
        "obj = np.array([2,3]) # objective vector\n",
        "A = np.zeros((3,2)) # initialize constraint matrix\n",
        "A[0,:] = [1,1] # acre constraint\n",
        "A[1,:] = [3,2] # labor constraint\n",
        "A[2,:] = [2,4] # fertilizer constraint\n",
        "b = np.array([450,1000,1200]) # limits \n",
        "sense = np.array(['<','<','<']) # all constraints are less than or equal constraints"
      ],
      "execution_count": null,
      "outputs": []
    },
    {
      "cell_type": "code",
      "metadata": {
        "colab": {
          "base_uri": "https://localhost:8080/"
        },
        "id": "1Rkt6jkdZHfY",
        "outputId": "54995dc6-492e-4c87-e1dc-24c1f40bc828"
      },
      "source": [
        "print(A)"
      ],
      "execution_count": null,
      "outputs": [
        {
          "output_type": "stream",
          "name": "stdout",
          "text": [
            "[[1. 1.]\n",
            " [3. 2.]\n",
            " [2. 4.]]\n"
          ]
        }
      ]
    },
    {
      "cell_type": "code",
      "metadata": {
        "id": "qMdwoIlhZMEQ"
      },
      "source": [
        "ojModel = gp.Model()  \n",
        "\n",
        "ojModX = ojModel.addMVar(2) \n",
        "ojModCon = ojModel.addMConstrs(A, ojModX, sense, b) \n",
        "ojModel.setMObjective(None,obj,0,sense=gp.GRB.MAXIMIZE) \n",
        "\n",
        "ojModel.Params.OutputFlag = 0 "
      ],
      "execution_count": null,
      "outputs": []
    },
    {
      "cell_type": "code",
      "metadata": {
        "id": "oIqz8AGdZQ24"
      },
      "source": [
        "ojModel.optimize() "
      ],
      "execution_count": null,
      "outputs": []
    },
    {
      "cell_type": "code",
      "metadata": {
        "colab": {
          "base_uri": "https://localhost:8080/"
        },
        "id": "yvT1IaqrZT69",
        "outputId": "86f2b1c9-8522-480b-bb77-a923370589ff"
      },
      "source": [
        "ojModel.objVal"
      ],
      "execution_count": null,
      "outputs": [
        {
          "output_type": "execute_result",
          "data": {
            "text/plain": [
              "1000.0"
            ]
          },
          "metadata": {},
          "execution_count": 10
        }
      ]
    },
    {
      "cell_type": "code",
      "metadata": {
        "colab": {
          "base_uri": "https://localhost:8080/",
          "height": 669
        },
        "id": "ZHoCDPvucsf7",
        "outputId": "7c32feee-f439-4968-d422-7c719203e0ee"
      },
      "source": [
        "profit = []\n",
        "wc = []\n",
        "for i in range(200,2200,100):\n",
        "    obj = np.array([2,3])      # objective vector\n",
        "    A = np.zeros((3,2))              # initialize constraint matrix\n",
        "    A[0,:] = [1,1]                   # Area constraint\n",
        "    A[1,:] = [3,2]                   # Worker constraint\n",
        "    A[2,:] = [2,4]                   # Fertilizer constraint\n",
        "    b = np.array([450,1000,i])       # limits on area, worker, and fertilizer\n",
        "    sense = np.array(['<','<','<'])\n",
        "    ojModel = gp.Model()             # initialize an empty model\n",
        "    ojModX = ojModel.addMVar(2)      # tell the model how many variables there are\n",
        "                            \n",
        "    ojModCon = ojModel.addMConstrs(A, ojModX, sense, b) # add the constraints to the model\n",
        "    ojModel.setMObjective(None,obj,0,sense=gp.GRB.MAXIMIZE) # add the objective to the model...we'll talk about the None and the 0\n",
        "\n",
        "    ojModel.Params.OutputFlag = 0\n",
        "    ojModel.optimize()\n",
        "\n",
        "    profit.append(ojModel.objVal)\n",
        "    wc.append(ojModX.x)\n",
        "\n",
        "df = pd.DataFrame(wc,columns=['Wheat','Corn'])\n",
        "df['Fertilizer'] = range(200,2200,100)\n",
        "df['Profit'] = profit\n",
        "df"
      ],
      "execution_count": null,
      "outputs": [
        {
          "output_type": "execute_result",
          "data": {
            "text/html": [
              "<div>\n",
              "<style scoped>\n",
              "    .dataframe tbody tr th:only-of-type {\n",
              "        vertical-align: middle;\n",
              "    }\n",
              "\n",
              "    .dataframe tbody tr th {\n",
              "        vertical-align: top;\n",
              "    }\n",
              "\n",
              "    .dataframe thead th {\n",
              "        text-align: right;\n",
              "    }\n",
              "</style>\n",
              "<table border=\"1\" class=\"dataframe\">\n",
              "  <thead>\n",
              "    <tr style=\"text-align: right;\">\n",
              "      <th></th>\n",
              "      <th>Wheat</th>\n",
              "      <th>Corn</th>\n",
              "      <th>Fertilizer</th>\n",
              "      <th>Profit</th>\n",
              "    </tr>\n",
              "  </thead>\n",
              "  <tbody>\n",
              "    <tr>\n",
              "      <th>0</th>\n",
              "      <td>100.0</td>\n",
              "      <td>0.0</td>\n",
              "      <td>200</td>\n",
              "      <td>200.0</td>\n",
              "    </tr>\n",
              "    <tr>\n",
              "      <th>1</th>\n",
              "      <td>150.0</td>\n",
              "      <td>0.0</td>\n",
              "      <td>300</td>\n",
              "      <td>300.0</td>\n",
              "    </tr>\n",
              "    <tr>\n",
              "      <th>2</th>\n",
              "      <td>200.0</td>\n",
              "      <td>0.0</td>\n",
              "      <td>400</td>\n",
              "      <td>400.0</td>\n",
              "    </tr>\n",
              "    <tr>\n",
              "      <th>3</th>\n",
              "      <td>250.0</td>\n",
              "      <td>0.0</td>\n",
              "      <td>500</td>\n",
              "      <td>500.0</td>\n",
              "    </tr>\n",
              "    <tr>\n",
              "      <th>4</th>\n",
              "      <td>300.0</td>\n",
              "      <td>0.0</td>\n",
              "      <td>600</td>\n",
              "      <td>600.0</td>\n",
              "    </tr>\n",
              "    <tr>\n",
              "      <th>5</th>\n",
              "      <td>325.0</td>\n",
              "      <td>12.5</td>\n",
              "      <td>700</td>\n",
              "      <td>687.5</td>\n",
              "    </tr>\n",
              "    <tr>\n",
              "      <th>6</th>\n",
              "      <td>300.0</td>\n",
              "      <td>50.0</td>\n",
              "      <td>800</td>\n",
              "      <td>750.0</td>\n",
              "    </tr>\n",
              "    <tr>\n",
              "      <th>7</th>\n",
              "      <td>275.0</td>\n",
              "      <td>87.5</td>\n",
              "      <td>900</td>\n",
              "      <td>812.5</td>\n",
              "    </tr>\n",
              "    <tr>\n",
              "      <th>8</th>\n",
              "      <td>250.0</td>\n",
              "      <td>125.0</td>\n",
              "      <td>1000</td>\n",
              "      <td>875.0</td>\n",
              "    </tr>\n",
              "    <tr>\n",
              "      <th>9</th>\n",
              "      <td>225.0</td>\n",
              "      <td>162.5</td>\n",
              "      <td>1100</td>\n",
              "      <td>937.5</td>\n",
              "    </tr>\n",
              "    <tr>\n",
              "      <th>10</th>\n",
              "      <td>200.0</td>\n",
              "      <td>200.0</td>\n",
              "      <td>1200</td>\n",
              "      <td>1000.0</td>\n",
              "    </tr>\n",
              "    <tr>\n",
              "      <th>11</th>\n",
              "      <td>175.0</td>\n",
              "      <td>237.5</td>\n",
              "      <td>1300</td>\n",
              "      <td>1062.5</td>\n",
              "    </tr>\n",
              "    <tr>\n",
              "      <th>12</th>\n",
              "      <td>150.0</td>\n",
              "      <td>275.0</td>\n",
              "      <td>1400</td>\n",
              "      <td>1125.0</td>\n",
              "    </tr>\n",
              "    <tr>\n",
              "      <th>13</th>\n",
              "      <td>125.0</td>\n",
              "      <td>312.5</td>\n",
              "      <td>1500</td>\n",
              "      <td>1187.5</td>\n",
              "    </tr>\n",
              "    <tr>\n",
              "      <th>14</th>\n",
              "      <td>100.0</td>\n",
              "      <td>350.0</td>\n",
              "      <td>1600</td>\n",
              "      <td>1250.0</td>\n",
              "    </tr>\n",
              "    <tr>\n",
              "      <th>15</th>\n",
              "      <td>50.0</td>\n",
              "      <td>400.0</td>\n",
              "      <td>1700</td>\n",
              "      <td>1300.0</td>\n",
              "    </tr>\n",
              "    <tr>\n",
              "      <th>16</th>\n",
              "      <td>0.0</td>\n",
              "      <td>450.0</td>\n",
              "      <td>1800</td>\n",
              "      <td>1350.0</td>\n",
              "    </tr>\n",
              "    <tr>\n",
              "      <th>17</th>\n",
              "      <td>0.0</td>\n",
              "      <td>450.0</td>\n",
              "      <td>1900</td>\n",
              "      <td>1350.0</td>\n",
              "    </tr>\n",
              "    <tr>\n",
              "      <th>18</th>\n",
              "      <td>0.0</td>\n",
              "      <td>450.0</td>\n",
              "      <td>2000</td>\n",
              "      <td>1350.0</td>\n",
              "    </tr>\n",
              "    <tr>\n",
              "      <th>19</th>\n",
              "      <td>0.0</td>\n",
              "      <td>450.0</td>\n",
              "      <td>2100</td>\n",
              "      <td>1350.0</td>\n",
              "    </tr>\n",
              "  </tbody>\n",
              "</table>\n",
              "</div>"
            ],
            "text/plain": [
              "    Wheat   Corn  Fertilizer  Profit\n",
              "0   100.0    0.0         200   200.0\n",
              "1   150.0    0.0         300   300.0\n",
              "2   200.0    0.0         400   400.0\n",
              "3   250.0    0.0         500   500.0\n",
              "4   300.0    0.0         600   600.0\n",
              "5   325.0   12.5         700   687.5\n",
              "6   300.0   50.0         800   750.0\n",
              "7   275.0   87.5         900   812.5\n",
              "8   250.0  125.0        1000   875.0\n",
              "9   225.0  162.5        1100   937.5\n",
              "10  200.0  200.0        1200  1000.0\n",
              "11  175.0  237.5        1300  1062.5\n",
              "12  150.0  275.0        1400  1125.0\n",
              "13  125.0  312.5        1500  1187.5\n",
              "14  100.0  350.0        1600  1250.0\n",
              "15   50.0  400.0        1700  1300.0\n",
              "16    0.0  450.0        1800  1350.0\n",
              "17    0.0  450.0        1900  1350.0\n",
              "18    0.0  450.0        2000  1350.0\n",
              "19    0.0  450.0        2100  1350.0"
            ]
          },
          "metadata": {},
          "execution_count": 19
        }
      ]
    },
    {
      "cell_type": "code",
      "metadata": {
        "colab": {
          "base_uri": "https://localhost:8080/"
        },
        "id": "ellBTZbzfE1d",
        "outputId": "517b4383-dab0-44d3-f45e-280be508850a"
      },
      "source": [
        "ind = (df.Wheat.values == 0).argmax() #index value for first occurence of 0 wheat production\n",
        "ind"
      ],
      "execution_count": null,
      "outputs": [
        {
          "output_type": "execute_result",
          "data": {
            "text/plain": [
              "16"
            ]
          },
          "metadata": {},
          "execution_count": 22
        }
      ]
    },
    {
      "cell_type": "code",
      "metadata": {
        "colab": {
          "base_uri": "https://localhost:8080/"
        },
        "id": "TrlA-GHSfgOI",
        "outputId": "b1793d5d-2fec-4615-d830-5fe5cad30fb7"
      },
      "source": [
        "df.loc[ind]['Fertilizer'] #level of fertilizer for which the wheat production is 0."
      ],
      "execution_count": null,
      "outputs": [
        {
          "output_type": "execute_result",
          "data": {
            "text/plain": [
              "1800.0"
            ]
          },
          "metadata": {},
          "execution_count": 28
        }
      ]
    },
    {
      "cell_type": "markdown",
      "metadata": {
        "id": "VK2I86d0gngl"
      },
      "source": [
        "**Question 3**"
      ]
    },
    {
      "cell_type": "code",
      "metadata": {
        "id": "HoOh9cKtgr02"
      },
      "source": [
        "obj = np.array([13,16,16,4,39])\n",
        "A = np.zeros((7,5))\n",
        "A[0,:] = [1,0,0,0,0]\n",
        "A[1,:] = [0,1,0,0,0]\n",
        "A[2,:] = [0,0,1,0,0]\n",
        "A[3,:] = [0,0,0,1,0]\n",
        "A[4,:] = [0,0,0,0,1]\n",
        "A[5,:] = [11,53,5,5,29]\n",
        "A[6,:] = [3,6,5,1,34]\n",
        "\n",
        "b = np.array([1,1,1,1,1,40,20])\n",
        "sense = np.array(['<','<','<','<','<','<','<'])"
      ],
      "execution_count": null,
      "outputs": []
    },
    {
      "cell_type": "code",
      "metadata": {
        "id": "PY6YxztrzvTD"
      },
      "source": [
        "ojModel = gp.Model() # initialize an empty model\n",
        "\n",
        "ojModX = ojModel.addMVar(5) # tell the model how many variables there are\n",
        "# must define the variables before adding constraints because variables go into the constraints\n",
        "ojModCon = ojModel.addMConstrs(A, ojModX, sense, b) # add the constraints to the model\n",
        "ojModel.setMObjective(None,obj,0,sense=gp.GRB.MAXIMIZE) # add the objective to the model\n",
        "ojModel.Params.OutputFlag = 0 # tell gurobi to shut up!"
      ],
      "execution_count": null,
      "outputs": []
    },
    {
      "cell_type": "code",
      "metadata": {
        "colab": {
          "base_uri": "https://localhost:8080/"
        },
        "id": "bcD-KNwx0MUw",
        "outputId": "924af014-cad4-45c2-b5e7-36ac1290066d"
      },
      "source": [
        "ojModel.optimize()\n",
        "ojModel.objVal"
      ],
      "execution_count": null,
      "outputs": [
        {
          "output_type": "execute_result",
          "data": {
            "text/plain": [
              "47.449017199017206"
            ]
          },
          "metadata": {},
          "execution_count": 50
        }
      ]
    },
    {
      "cell_type": "code",
      "metadata": {
        "colab": {
          "base_uri": "https://localhost:8080/"
        },
        "id": "oA486HXO0VtY",
        "outputId": "b049c99c-c708-4826-f534-50117f75c1ca"
      },
      "source": [
        "round(ojModX.x[2],2) #percentage of opportunity 3 Star Oil should invest in"
      ],
      "execution_count": null,
      "outputs": [
        {
          "output_type": "execute_result",
          "data": {
            "text/plain": [
              "1.0"
            ]
          },
          "metadata": {},
          "execution_count": 53
        }
      ]
    },
    {
      "cell_type": "markdown",
      "metadata": {
        "id": "WC1D4m9ojPL8"
      },
      "source": [
        "**Question 4**"
      ]
    },
    {
      "cell_type": "code",
      "metadata": {
        "id": "HaK2W6rIjeUx"
      },
      "source": [
        "obj = np.array([0.18,0.23,0.05]) # objective vector\n",
        "\n",
        "A = np.zeros((7,3)) # initialize constraint matrix\n",
        "\n",
        "A[0,:] = [1,0,0] # corn serving constraint\n",
        "A[1,:] = [0,1,0] # milk constraint\n",
        "A[2,:] = [0,0,1] # bread constraint\n",
        "A[3,:] = [72,121,65] # vitamin constraint\n",
        "\n",
        "A[4,:] = [107,500,0] # calories constraint\n",
        "\n",
        "A[5,:] = [72,121,65] # vitamin constraint\n",
        "\n",
        "A[6,:] = [107,500,0] # calories constraint\n",
        "\n",
        "\n",
        "b = np.array([10,10,10,2250,50000,2000,5000]) # limits\n",
        "sense = np.array(['<','<','<','<','<','>','>'])\n",
        "\n"
      ],
      "execution_count": null,
      "outputs": []
    },
    {
      "cell_type": "code",
      "metadata": {
        "id": "LV5swqPmjSlJ"
      },
      "source": [
        "ojModel = gp.Model() # initialize an empty model\n",
        "\n",
        "ojModX = ojModel.addMVar(3) # tell the model how many variables there are\n",
        "# must define the variables before adding constraints because variables go into the constraints\n",
        "ojModCon = ojModel.addMConstrs(A, ojModX, sense, b) # add the constraints to the model\n",
        "ojModel.setMObjective(None,obj,0,sense=gp.GRB.MINIMIZE) # add the objective to the model\n",
        "ojModel.Params.OutputFlag = 0 # tell gurobi to shut up!"
      ],
      "execution_count": null,
      "outputs": []
    },
    {
      "cell_type": "code",
      "metadata": {
        "id": "nE8IYMBnkPqu"
      },
      "source": [
        "ojModel.optimize()"
      ],
      "execution_count": null,
      "outputs": []
    },
    {
      "cell_type": "code",
      "metadata": {
        "colab": {
          "base_uri": "https://localhost:8080/"
        },
        "id": "f3p8mRW1kQbK",
        "outputId": "472918ea-1896-4158-97fd-461cba65561e"
      },
      "source": [
        "ojModel.objVal"
      ],
      "execution_count": null,
      "outputs": [
        {
          "output_type": "execute_result",
          "data": {
            "text/plain": [
              "3.1500000000000004"
            ]
          },
          "metadata": {},
          "execution_count": 32
        }
      ]
    },
    {
      "cell_type": "code",
      "metadata": {
        "colab": {
          "base_uri": "https://localhost:8080/"
        },
        "id": "DPKc2i_UkScb",
        "outputId": "f3efa746-d429-47f2-bd38-2a2a287a7915"
      },
      "source": [
        "round(ojModX.x[0],2) #Servings of corn one should eat rounded to two decimal places"
      ],
      "execution_count": null,
      "outputs": [
        {
          "output_type": "execute_result",
          "data": {
            "text/plain": [
              "1.94"
            ]
          },
          "metadata": {},
          "execution_count": 35
        }
      ]
    },
    {
      "cell_type": "markdown",
      "metadata": {
        "id": "ENO-KRYSkpg6"
      },
      "source": [
        "**Question 5**"
      ]
    },
    {
      "cell_type": "code",
      "metadata": {
        "colab": {
          "base_uri": "https://localhost:8080/"
        },
        "id": "dTAol34UktKo",
        "outputId": "cf56238c-5b85-494e-843f-27c3c1272043"
      },
      "source": [
        "obj = np.array([1,1.3,1.4,1,1.2,1.6]) # objective vector\n",
        "\n",
        "A = np.zeros((8,6)) # initialize constraint matrix\n",
        "\n",
        "A[0,:] = [1,0,0,1,0,0]     #YEAR 1 CONSTRAINTS\n",
        "A[1,:] = [1,0,0,1,0,0]\n",
        "A[2,:] = [0,1.3,0,0,1.2,0] #YEAR 2 CONSTRAINTS\n",
        "A[3,:] = [0,1.3,0,0,1.2,0]\n",
        "A[4,:] = [0,0,1.4,0,0,1.6] #YEAR 3 CONSTRAINTS\n",
        "A[5,:] = [0,0,1.4,0,0,1.6]\n",
        "A[6,:] = [1,1,1,0,0,0]\n",
        "A[7,:] = [0,0,0,1,1,1]\n",
        "\n",
        "\n",
        "b = np.array([2,1.2,2,1.5,3,2,2,3]) # limits\n",
        "sense = np.array(['<','>','<','>','<','>','<','<'])\n",
        "A\n"
      ],
      "execution_count": null,
      "outputs": [
        {
          "output_type": "execute_result",
          "data": {
            "text/plain": [
              "array([[1. , 0. , 0. , 1. , 0. , 0. ],\n",
              "       [1. , 0. , 0. , 1. , 0. , 0. ],\n",
              "       [0. , 1.3, 0. , 0. , 1.2, 0. ],\n",
              "       [0. , 1.3, 0. , 0. , 1.2, 0. ],\n",
              "       [0. , 0. , 1.4, 0. , 0. , 1.6],\n",
              "       [0. , 0. , 1.4, 0. , 0. , 1.6],\n",
              "       [1. , 1. , 1. , 0. , 0. , 0. ],\n",
              "       [0. , 0. , 0. , 1. , 1. , 1. ]])"
            ]
          },
          "metadata": {},
          "execution_count": 38
        }
      ]
    },
    {
      "cell_type": "code",
      "metadata": {
        "id": "SZ5hiul8oRtA"
      },
      "source": [
        "ojModel = gp.Model() # initialize an empty model\n",
        "\n",
        "ojModX = ojModel.addMVar(6) \n",
        "ojModCon = ojModel.addMConstrs(A, ojModX, sense, b) # add the constraints to the model\n",
        "ojModel.setMObjective(None,obj,0,sense=gp.GRB.MAXIMIZE) # add the objective to the model\n",
        "\n",
        "ojModel.Params.OutputFlag = 0 # tell gurobi to shut up!!\n",
        "ojModel.optimize()"
      ],
      "execution_count": null,
      "outputs": []
    },
    {
      "cell_type": "code",
      "metadata": {
        "colab": {
          "base_uri": "https://localhost:8080/"
        },
        "id": "L8iQ4Tr6phIE",
        "outputId": "08482545-8dd3-4610-f3d1-eb6070ce4462"
      },
      "source": [
        "ojModel.objVal"
      ],
      "execution_count": null,
      "outputs": [
        {
          "output_type": "execute_result",
          "data": {
            "text/plain": [
              "6.586538461538462"
            ]
          },
          "metadata": {},
          "execution_count": 41
        }
      ]
    },
    {
      "cell_type": "code",
      "metadata": {
        "colab": {
          "base_uri": "https://localhost:8080/"
        },
        "id": "5pZ9AmgLph6B",
        "outputId": "a32c858a-ffa9-4754-8a24-b243f59ef5c7"
      },
      "source": [
        "round(ojModX.x[5],2) # acres of forest unit 2 that should be cut down in year 3 in order to maximize total wood yield"
      ],
      "execution_count": null,
      "outputs": [
        {
          "output_type": "execute_result",
          "data": {
            "text/plain": [
              "1.88"
            ]
          },
          "metadata": {},
          "execution_count": 43
        }
      ]
    }
  ]
}